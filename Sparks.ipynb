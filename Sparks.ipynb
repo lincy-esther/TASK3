{
  "nbformat": 4,
  "nbformat_minor": 0,
  "metadata": {
    "colab": {
      "name": "Sparks.ipynb",
      "provenance": [],
      "collapsed_sections": [],
      "authorship_tag": "ABX9TyN5LiYdhbsOUNO//wAIHmta",
      "include_colab_link": true
    },
    "kernelspec": {
      "name": "python3",
      "display_name": "Python 3"
    },
    "language_info": {
      "name": "python"
    }
  },
  "cells": [
    {
      "cell_type": "markdown",
      "metadata": {
        "id": "view-in-github",
        "colab_type": "text"
      },
      "source": [
        "<a href=\"https://colab.research.google.com/github/lincy-esther/TASK3/blob/main/Sparks.ipynb\" target=\"_parent\"><img src=\"https://colab.research.google.com/assets/colab-badge.svg\" alt=\"Open In Colab\"/></a>"
      ]
    },
    {
      "cell_type": "code",
      "metadata": {
        "id": "8IYQAiA5LGDl"
      },
      "source": [
        "\n",
        "import pandas as pd\n",
        "import numpy as np\n",
        "import matplotlib.pyplot as plt\n",
        "import missingno\n",
        "%matplotlib inline\n",
        "import seaborn as sns\n",
        "solution=pd.read_csv('SampleSuperstore(1).csv')\n",
        "\n",
        "solution.head()\n",
        "solution.tail()\n",
        "solution.describe()\n",
        "solution.isnull().sum()\n",
        "missingno.matrix(solution,figsize=(30,10))\n",
        "solution.dtypes\n",
        "fig = plt.figure(figsize=(20,10))\n",
        "sns.countplot(y='Ship Mode', data=solution);\n",
        "\n",
        "fig = plt.figure(figsize=(20,40))\n",
        "sns.countplot(y='State', data=solution);\n",
        "\n",
        "fig = plt.figure(figsize=(20,10))\n",
        "sns.countplot(y='Region', data=solution);\n",
        "fig = plt.figure(figsize=(20,10))\n",
        "sns.countplot(y='Category', data=solution);\n",
        "fig = plt.figure(figsize=(20,15))\n",
        "sns.countplot(y='Sub-Category', data=solution);\n",
        "plt.figure(figsize=(16,10))\n",
        "plt.bar(solution['State'],solution[\"Profit\"])\n",
        "plt.xlabel(\"State\",fontsize=20)\n",
        "plt.ylabel(\"Profit\",fontsize=20)\n",
        "plt.title(\"State Profit\")\n",
        "plt.xticks(rotation=90)\n",
        "plt.show()\n",
        "\n",
        "plt.figure(figsize=(16,10))\n",
        "plt.bar(solution['State'],solution[\"Sales\"])\n",
        "plt.xlabel(\"State\",fontsize=20)\n",
        "plt.ylabel(\"Sales\",fontsize=20)\n",
        "plt.title(\"State Sales\")\n",
        "plt.xticks(rotation=90)\n",
        "plt.show()\n",
        "A=(solution[\"Ship Mode\"].value_counts())/len(solution[\"Ship Mode\"])*100\n",
        "A.plot(kind='bar',color='b')\n",
        "plt.show()\n",
        "\n",
        "A=(solution[\"Region\"].value_counts())/len(solution[\"Region\"])*100\n",
        "A.plot(kind='bar',color='b')\n",
        "plt.show()\n",
        "A=(solution[\"Category\"].value_counts())/len(solution[\"Category\"])*100\n",
        "A.plot(kind='bar',color='b')\n",
        "plt.show()\n",
        "A=(solution[\"Sub-Category\"].value_counts())/len(solution[\"Sub-Category\"])*100\n",
        "A.plot(kind='bar',color='b')\n",
        "plt.show()\n",
        "solution.pivot_table(index=\"Segment\",values=\"Sales\",columns=\"Discount\",aggfunc='median')\n",
        "solution.pivot_table(index=\"Segment\",values=\"Profit\",columns=\"Discount\",aggfunc='median')"
      ],
      "execution_count": null,
      "outputs": []
    }
  ]
}